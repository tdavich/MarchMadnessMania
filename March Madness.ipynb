{
 "cells": [
  {
   "cell_type": "code",
   "execution_count": 471,
   "metadata": {
    "collapsed": true
   },
   "outputs": [],
   "source": [
    "# lecture 12 is RF\n",
    "# need to scale data \n",
    "import numpy as np\n",
    "import pandas as pd\n",
    "import matplotlib.pyplot as plt\n",
    "%matplotlib inline"
   ]
  },
  {
   "cell_type": "code",
   "execution_count": 478,
   "metadata": {
    "collapsed": false
   },
   "outputs": [],
   "source": [
    "RegularSeasonCompactResults = pd.read_csv(\"RegularSeasonCompactResults.csv\")\n",
    "TourneyCompactResults = pd.read_csv(\"TourneyCompactResults.csv\")\n",
    "Teams = pd.read_csv(\"Teams.csv\")\n",
    "Seasons = pd.read_csv(\"Seasons.csv\")\n",
    "TourneySlots = pd.read_csv(\"TourneySlots.csv\")\n",
    "TourneySeeds = pd.read_csv(\"TourneySeeds.csv\")\n",
    "RegularSeasonDetailedResults = pd.read_csv(\"RegularSeasonDetailedResults.csv\")\n",
    "TourneyDetailedResults = pd.read_csv(\"TourneyDetailedResults.csv\")"
   ]
  },
  {
   "cell_type": "code",
   "execution_count": 373,
   "metadata": {
    "collapsed": false
   },
   "outputs": [
    {
     "name": "stdout",
     "output_type": "stream",
     "text": [
      "   Team_Id    Team_Name\n",
      "0     1101  Abilene Chr\n",
      "1     1102    Air Force\n",
      "2     1103        Akron\n",
      "3     1104      Alabama\n",
      "4     1105  Alabama A&M\n",
      "   Season     Dayzero Regionw    Regionx    Regiony    Regionz\n",
      "0    1985  10/29/1984    East       West    Midwest  Southeast\n",
      "1    1986  10/28/1985    East    Midwest  Southeast       West\n",
      "2    1987  10/27/1986    East  Southeast    Midwest       West\n",
      "3    1988  11/02/1987    East    Midwest  Southeast       West\n",
      "4    1989  10/31/1988    East       West    Midwest  Southeast\n",
      "      Season  Slot Strongseed Weakseed\n",
      "1978    2015  R4Y1       R3Y1     R3Y2\n",
      "1979    2015  R4Z1       R3Z1     R3Z2\n",
      "1980    2015  R5WX       R4W1     R4X1\n",
      "1981    2015  R5YZ       R4Y1     R4Z1\n",
      "1982    2015  R6CH       R5WX     R5YZ\n",
      "      Season Seed  Team\n",
      "2009    2015  Z12  1459\n",
      "2010    2015  Z13  1217\n",
      "2011    2015  Z14  1209\n",
      "2012    2015  Z15  1411\n",
      "2013    2015  Z16  1157\n"
     ]
    }
   ],
   "source": [
    "print Teams.head()\n",
    "print Seasons.head()\n",
    "print TourneySlots.tail()\n",
    "print TourneySeeds.tail()\n"
   ]
  },
  {
   "cell_type": "code",
   "execution_count": 495,
   "metadata": {
    "collapsed": false
   },
   "outputs": [
    {
     "name": "stdout",
     "output_type": "stream",
     "text": [
      "       Season  Daynum  Wteam  Wscore  Lteam  Lscore Wloc  Numot  Wfgm  Wfga  \\\n",
      "65867    2015     132   1209      38   1204      36    N      0    15    46   \n",
      "65868    2015     132   1246      78   1116      63    N      0    25    49   \n",
      "65869    2015     132   1374      62   1163      54    N      0    18    51   \n",
      "65870    2015     132   1433      71   1173      65    N      0    24    56   \n",
      "65871    2015     132   1458      80   1277      69    N      1    25    52   \n",
      "\n",
      "      ...   Lfga3  Lftm  Lfta  Lor  Ldr  Last  Lto  Lstl  Lblk  Lpf  \n",
      "65867 ...      26     9    13   14   20     7    8     4     5   11  \n",
      "65868 ...      13    11    17    9   11     5   12     4     3   22  \n",
      "65869 ...      25    16    21    4   18     6    7     1     7   22  \n",
      "65870 ...      12    21    27    8   22    10   10    11     2   16  \n",
      "65871 ...      14     9     9    6   23    16   13     3     2   17  \n",
      "\n",
      "[5 rows x 34 columns]\n",
      "Index([u'Season', u'Daynum', u'Wteam', u'Wscore', u'Lteam', u'Lscore', u'Wloc',\n",
      "       u'Numot', u'Wfgm', u'Wfga', u'Wfgm3', u'Wfga3', u'Wftm', u'Wfta',\n",
      "       u'Wor', u'Wdr', u'Wast', u'Wto', u'Wstl', u'Wblk', u'Wpf', u'Lfgm',\n",
      "       u'Lfga', u'Lfgm3', u'Lfga3', u'Lftm', u'Lfta', u'Lor', u'Ldr', u'Last',\n",
      "       u'Lto', u'Lstl', u'Lblk', u'Lpf'],\n",
      "      dtype='object')\n",
      "     Season  Daynum  Wteam  Wscore  Lteam  Lscore Wloc  Numot  Wfgm  Wfga  \\\n",
      "842    2015     146   1181      66   1211      52    N      0    21    56   \n",
      "843    2015     146   1277      76   1257      70    N      1    26    60   \n",
      "844    2015     152   1181      81   1277      61    N      0    26    50   \n",
      "845    2015     152   1458      71   1246      64    N      0    23    48   \n",
      "846    2015     154   1181      68   1458      63    N      0    24    51   \n",
      "\n",
      "    ...   Lfga3  Lftm  Lfta  Lor  Ldr  Last  Lto  Lstl  Lblk  Lpf  \n",
      "842 ...      10     6     9    6   25     8   13     1     3   15  \n",
      "843 ...      11    20    29   12   24    10    9     6     6   16  \n",
      "844 ...      20    10    16    8   23    10   14     4     3   28  \n",
      "845 ...       5     9    10    6   16     7    6     5     4   20  \n",
      "846 ...      21     6    10    9   24    13    5     3     1   15  \n",
      "\n",
      "[5 rows x 34 columns]\n"
     ]
    }
   ],
   "source": [
    "print RegularSeasonDetailedResults.tail()\n",
    "#print RegularSeasonDetailedResults.describe()\n",
    "print RegularSeasonDetailedResults.columns\n",
    "print TourneyDetailedResults.tail()"
   ]
  },
  {
   "cell_type": "code",
   "execution_count": 4,
   "metadata": {
    "collapsed": false
   },
   "outputs": [
    {
     "name": "stdout",
     "output_type": "stream",
     "text": [
      "   Season  Daynum  Wteam  Wscore  Lteam  Lscore Wloc  Numot\n",
      "0    1985      20   1228      81   1328      64    N      0\n",
      "1    1985      25   1106      77   1354      70    H      0\n",
      "2    1985      25   1112      63   1223      56    H      0\n",
      "3    1985      25   1165      70   1432      54    H      0\n",
      "4    1985      25   1192      86   1447      74    H      0\n"
     ]
    }
   ],
   "source": [
    "print RegularSeasonCompactResults.head()"
   ]
  },
  {
   "cell_type": "code",
   "execution_count": 5,
   "metadata": {
    "collapsed": false
   },
   "outputs": [
    {
     "name": "stdout",
     "output_type": "stream",
     "text": [
      "   Season  Daynum  Wteam  Wscore  Lteam  Lscore Wloc  Numot\n",
      "0    1985     136   1116      63   1234      54    N      0\n",
      "1    1985     136   1120      59   1345      58    N      0\n",
      "2    1985     136   1207      68   1250      43    N      0\n",
      "3    1985     136   1229      58   1425      55    N      0\n",
      "4    1985     136   1242      49   1325      38    N      0\n"
     ]
    }
   ],
   "source": [
    "print TourneyCompactResults.head()\n"
   ]
  },
  {
   "cell_type": "code",
   "execution_count": 378,
   "metadata": {
    "collapsed": false
   },
   "outputs": [
    {
     "name": "stdout",
     "output_type": "stream",
     "text": [
      "               Id  Pred\n",
      "0  2011_1103_1106  None\n",
      "1  2011_1103_1112  None\n",
      "2  2011_1103_1114  None\n",
      "3  2011_1103_1125  None\n",
      "4  2011_1103_1131  None\n"
     ]
    }
   ],
   "source": [
    "# submission file\n",
    "# predict every possible game from 12, 13, 14, 15\n",
    "#playoff_teams = TourneySeeds[TourneySeeds['Season'] == 2011]['Team'].sort_values(ascending=True)\n",
    "\n",
    "# allow this to accept a list?\n",
    "def SubmissionFile(season_year):\n",
    "    playoff_teams = TourneySeeds[TourneySeeds['Season'] == season_year]['Team'].sort_values(ascending=True)\n",
    "    Submission = []\n",
    "    Prediction = []\n",
    "    # select team column for each year\n",
    "    x = playoff_teams\n",
    "    # loop through each team\n",
    "    for i in range(len(x)):\n",
    "        # then loop down list of remaining teams\n",
    "        for j in x[i+1:]:\n",
    "            if x.iloc[i] < j:\n",
    "                Submission.append('_'.join((str(season_year), str(x.iloc[i]), str(j))))\n",
    "            else:\n",
    "                Submission.append('_'.join((str(season_year),str(j),  str(x.iloc[i]))))\n",
    "            Prediction.append(None)\n",
    "    return pd.DataFrame({'Id': Submission,\n",
    "                         'Pred': Prediction})\n",
    "                \n",
    "test = SubmissionFile(2011)\n",
    "print test.head()"
   ]
  },
  {
   "cell_type": "code",
   "execution_count": 366,
   "metadata": {
    "collapsed": false
   },
   "outputs": [],
   "source": [
    "# First two predictors\n",
    "# Season win percentage\n",
    "# Number of wins the last 6 games\n",
    "\n",
    "season_matches = TourneyCompactResults[TourneyCompactResults['Season'] == 2011]\n",
    "team = []\n",
    "result = []\n",
    "# print range(0, len(season_matches))\n",
    "\n",
    "# expand to multiple seasons\n",
    "def get_matches():\n",
    "    for i in range(0, len(season_matches)):\n",
    "        row = season_matches.iloc[i]\n",
    "        # lowest team integer goes first\n",
    "        if row['Wteam'] < row['Lteam']:\n",
    "            team.append(\"2011\" + \"_\" + str(row['Wteam']) + \"_\" + str(row['Lteam']))\n",
    "            result.append(1)\n",
    "        else:\n",
    "            team.append(\"2011\" + \"_\" + str(row['Lteam']) + \"_\" + str(row['Wteam']))\n",
    "            result.append(0)\n",
    "    return pd.DataFrame({'Game': team,\n",
    "                         'Result': result})\n",
    "matches = get_matches()  "
   ]
  },
  {
   "cell_type": "code",
   "execution_count": 391,
   "metadata": {
    "collapsed": false
   },
   "outputs": [
    {
     "name": "stdout",
     "output_type": "stream",
     "text": [
      "1610    1452\n",
      "1641    1457\n",
      "1612    1458\n",
      "1621    1459\n",
      "1663    1462\n",
      "Name: Team, dtype: int64\n",
      "      Season Seed  Team\n",
      "1609    2010  W01  1246\n",
      "1610    2010  W02  1452\n",
      "1611    2010  W03  1307\n",
      "1612    2010  W04  1458\n",
      "1613    2010  W05  1396\n"
     ]
    }
   ],
   "source": [
    "# playoff teams\n",
    "playoff_teams = TourneySeeds[TourneySeeds['Season'] == 2010]['Team'].sort_values(ascending=True)\n",
    "print playoff_teams.tail()\n",
    "\n",
    "# playoff seeds\n",
    "seeds = TourneySeeds[TourneySeeds['Season']==2010]\n",
    "print seeds.head()"
   ]
  },
  {
   "cell_type": "code",
   "execution_count": 392,
   "metadata": {
    "collapsed": false
   },
   "outputs": [
    {
     "name": "stdout",
     "output_type": "stream",
     "text": [
      "        Season  Daynum  Wteam  Wscore  Lteam  Lscore Wloc  Numot\n",
      "108122    2010       7   1143      75   1293      70    H      0\n",
      "108123    2010       7   1314      88   1198      72    H      0\n",
      "108124    2010       7   1326     100   1108      60    H      0\n",
      "108125    2010       7   1393      75   1107      43    H      0\n",
      "108126    2010       9   1143      95   1178      61    H      0\n"
     ]
    }
   ],
   "source": [
    "# regular season\n",
    "season = RegularSeasonCompactResults[RegularSeasonCompactResults['Season'] == 2010]\n",
    "print season.head()"
   ]
  },
  {
   "cell_type": "code",
   "execution_count": 393,
   "metadata": {
    "collapsed": false
   },
   "outputs": [],
   "source": [
    "# wins by team\n",
    "# https://statsguys.wordpress.com/2014/03/15/data-analytics-for-beginners-march-machine-learning-mania-part-ii/\n",
    "\n",
    "wins_freq_table = pd.DataFrame.from_dict(season['Wteam'])\n",
    "\n",
    "wins_by_team = wins_freq_table[wins_freq_table.Wteam.isin(playoff_teams)].stack().value_counts()\n",
    "\n",
    "wins_by_team.head()\n",
    "\n",
    "wins_by_team.index.name = 'Team'\n",
    "\n",
    "\n"
   ]
  },
  {
   "cell_type": "code",
   "execution_count": 394,
   "metadata": {
    "collapsed": false
   },
   "outputs": [],
   "source": [
    "# loses by team\n",
    "loss_freq_table = pd.DataFrame.from_dict(season['Lteam'])\n",
    "losses_by_team = loss_freq_table[loss_freq_table.Lteam.isin(playoff_teams)].stack().value_counts()"
   ]
  },
  {
   "cell_type": "code",
   "execution_count": 409,
   "metadata": {
    "collapsed": false
   },
   "outputs": [
    {
     "name": "stdout",
     "output_type": "stream",
     "text": [
      "1115    0.531250\n",
      "1124    0.774194\n",
      "1139    0.875000\n",
      "1140    0.848485\n",
      "1143    0.696970\n",
      "dtype: float64\n"
     ]
    }
   ],
   "source": [
    "# Total win percentage\n",
    "games_played = pd.Series(wins_by_team + losses_by_team)\n",
    "# print games_played\n",
    "\n",
    "total_winpct = wins_by_team / games_played\n",
    "print total_winpct.head()"
   ]
  },
  {
   "cell_type": "code",
   "execution_count": 33,
   "metadata": {
    "collapsed": true
   },
   "outputs": [],
   "source": [
    "# validate using SQL lite\n",
    "from pandas.io import sql\n",
    "import sqlite3"
   ]
  },
  {
   "cell_type": "code",
   "execution_count": 34,
   "metadata": {
    "collapsed": true
   },
   "outputs": [],
   "source": [
    "conn = sqlite3.connect('marchmadness.db', detect_types=sqlite3.PARSE_DECLTYPES)"
   ]
  },
  {
   "cell_type": "code",
   "execution_count": 35,
   "metadata": {
    "collapsed": true
   },
   "outputs": [],
   "source": [
    "season.to_sql('season',\n",
    "            con=conn,\n",
    "            if_exists='replace',\n",
    "            index=False)"
   ]
  },
  {
   "cell_type": "code",
   "execution_count": 60,
   "metadata": {
    "collapsed": false
   },
   "outputs": [
    {
     "data": {
      "text/html": [
       "<div>\n",
       "<table border=\"1\" class=\"dataframe\">\n",
       "  <thead>\n",
       "    <tr style=\"text-align: right;\">\n",
       "      <th></th>\n",
       "      <th>CAST(sum(win) as real) / count(Wteam)</th>\n",
       "      <th>Wteam</th>\n",
       "      <th>Lteam</th>\n",
       "    </tr>\n",
       "  </thead>\n",
       "  <tbody>\n",
       "    <tr>\n",
       "      <th>0</th>\n",
       "      <td>0.774194</td>\n",
       "      <td>1173</td>\n",
       "      <td>1462</td>\n",
       "    </tr>\n",
       "  </tbody>\n",
       "</table>\n",
       "</div>"
      ],
      "text/plain": [
       "   CAST(sum(win) as real) / count(Wteam)  Wteam  Lteam\n",
       "0                               0.774194   1173   1462"
      ]
     },
     "execution_count": 60,
     "metadata": {},
     "output_type": "execute_result"
    }
   ],
   "source": [
    "# what's the winning percentage for team 1462? \n",
    "\n",
    "a=sql.read_sql('''\n",
    "\n",
    "select\n",
    "  CAST(sum(win) as real) / count(Wteam),\n",
    "  \n",
    "from (\n",
    "select\n",
    "  Wteam,\n",
    "  Lteam,\n",
    "  case when Wteam==1462 then 1 else 0 end  as win\n",
    "from season\n",
    "where Wteam == 1462 or Lteam==1462)\n",
    "\n",
    "''', con=conn)\n",
    "a"
   ]
  },
  {
   "cell_type": "code",
   "execution_count": 410,
   "metadata": {
    "collapsed": false
   },
   "outputs": [
    {
     "name": "stdout",
     "output_type": "stream",
     "text": [
      "      losses    winpct\n",
      "1115      15  0.531250\n",
      "1124       7  0.774194\n",
      "1139       4  0.875000\n",
      "1140       5  0.848485\n",
      "1143      10  0.696970\n"
     ]
    }
   ],
   "source": [
    "total_winpct_by_team = pd.DataFrame({'winpct': total_winpct,\n",
    "                                   'losses': losses_by_team})\n",
    "print total_winpct_by_team.head()"
   ]
  },
  {
   "cell_type": "code",
   "execution_count": 194,
   "metadata": {
    "collapsed": false
   },
   "outputs": [
    {
     "name": "stdout",
     "output_type": "stream",
     "text": [
      "{1153: 4, 1155: 4, 1412: 4, 1287: 5, 1196: 4, 1163: 5, 1421: 6, 1294: 6, 1424: 5, 1425: 4, 1427: 5, 1429: 6, 1437: 1, 1433: 3, 1199: 3, 1114: 4, 1314: 5, 1435: 3, 1393: 5, 1449: 4, 1323: 5, 1324: 6, 1458: 4, 1326: 6, 1181: 4, 1330: 6, 1459: 6, 1206: 5, 1207: 1, 1208: 3, 1396: 4, 1338: 3, 1211: 6, 1214: 5, 1343: 5, 1417: 3, 1345: 4, 1462: 5, 1350: 6, 1400: 3, 1228: 2, 1281: 2, 1103: 4, 1232: 5, 1336: 4, 1106: 5, 1364: 4, 1112: 4, 1242: 6, 1243: 5, 1246: 6, 1125: 6, 1254: 6, 1361: 5, 1257: 4, 1131: 6, 1389: 4, 1452: 4, 1137: 6, 1266: 3, 1139: 6, 1140: 4, 1397: 3, 1385: 4, 1272: 4, 1401: 3, 1276: 4, 1277: 3}\n"
     ]
    }
   ],
   "source": [
    "# number of wins last 6 games\n",
    "wins_last_six_games = {}\n",
    "for p in playoff_teams:\n",
    "    games = season[(season['Wteam']==p) | (season['Lteam']==p)]\n",
    "   # print games\n",
    "    num_wins = len(games.tail(6)[games['Wteam']==p])\n",
    "    # print str(p) + ' ' + str(num_wins)\n",
    "    wins_last_six_games.update({p:num_wins})\n",
    "print wins_last_six_games"
   ]
  },
  {
   "cell_type": "code",
   "execution_count": 328,
   "metadata": {
    "collapsed": false
   },
   "outputs": [
    {
     "name": "stdout",
     "output_type": "stream",
     "text": [
      "{}\n"
     ]
    },
    {
     "name": "stderr",
     "output_type": "stream",
     "text": [
      "/Applications/anaconda/lib/python2.7/site-packages/ipykernel/__main__.py:5: SettingWithCopyWarning: \n",
      "A value is trying to be set on a copy of a slice from a DataFrame.\n",
      "Try using .loc[row_indexer,col_indexer] = value instead\n",
      "\n",
      "See the caveats in the documentation: http://pandas.pydata.org/pandas-docs/stable/indexing.html#indexing-view-versus-copy\n"
     ]
    }
   ],
   "source": [
    "# seed in tournament\n",
    "pattern = \"[A-Z]([0-9][0-9])\"\n",
    "team_seeds = seeds['Seed'].str.extract(pattern).to_frame()\n",
    "seeds2 = team_seeds['Seed'].apply(int)\n",
    "seeds['SeedsInt'] = seeds2team_seed = {}\n",
    "print team_seed\n",
    "# for p in playoff_teams:\n",
    "    val = seeds.loc[seeds['Team'] == p]\n",
    "    # print val\n",
    "    zipped = dict(zip(val.Team,val.SeedsInt))\n",
    "    team_seed.update(zipped)\n",
    "#print team_seed[1412]\n",
    "print team_seed"
   ]
  },
  {
   "cell_type": "code",
   "execution_count": 241,
   "metadata": {
    "collapsed": false
   },
   "outputs": [
    {
     "name": "stdout",
     "output_type": "stream",
     "text": [
      "      wins_last_six_games  Seed  losses    winpct\n",
      "Team                                             \n",
      "1103                    4    15      12  0.647059\n",
      "1106                    5    16      17  0.468750\n",
      "1112                    4     5       7  0.794118\n",
      "1114                    4    16      16  0.515152\n",
      "1125                    6    13       4  0.882353\n"
     ]
    }
   ],
   "source": [
    "# combined all these together! \n",
    "\n",
    "w_six_df = pd.DataFrame.from_dict(wins_last_six_games, orient='index')\n",
    "w_six_df.columns= ['wins_last_six_games']\n",
    "#print w_six_df\n",
    "\n",
    "team_seed_df = pd.DataFrame.from_dict(team_seed, orient='index')\n",
    "team_seed_df.columns= ['Seed']\n",
    "#print team_seed_df\n",
    "\n",
    "team_metrics = pd.concat([w_six_df, team_seed_df,total_winpct_by_team], axis=1)\n",
    "team_metrics.index.name ='Team'\n",
    "# print team_metrics_home\n",
    "\n",
    "print team_metrics.head()"
   ]
  },
  {
   "cell_type": "code",
   "execution_count": 239,
   "metadata": {
    "collapsed": false
   },
   "outputs": [
    {
     "name": "stdout",
     "output_type": "stream",
     "text": [
      "             Game  Result\n",
      "0  2011_1155_1412       1\n",
      "1  2011_1114_1421       0\n",
      "2  2011_1106_1427       0\n",
      "3  2011_1425_1433       0\n",
      "4  2011_1139_1330       1\n",
      "  HomeID AwayID\n",
      "0   1155   1412\n",
      "1   1114   1421\n",
      "2   1106   1427\n",
      "3   1425   1433\n",
      "4   1139   1330\n",
      "             Game  Result HomeID AwayID\n",
      "0  2011_1155_1412       1   1155   1412\n",
      "1  2011_1114_1421       0   1114   1421\n",
      "2  2011_1106_1427       0   1106   1427\n",
      "3  2011_1425_1433       0   1425   1433\n",
      "4  2011_1139_1330       1   1139   1330\n"
     ]
    }
   ],
   "source": [
    "# create train data set\n",
    "print matches.head()\n",
    "\n",
    "pattern = \"[0-9]_([0-9]{4})_([0-9]{4})\"\n",
    "team_ids = matches['Game'].str.extract(pattern)\n",
    "team_ids.columns = ['HomeID', 'AwayID']\n",
    "print team_ids.head()\n",
    "\n",
    "model_df = pd.concat([matches,team_ids], axis=1)\n",
    "print model_df.head()\n",
    "\n"
   ]
  },
  {
   "cell_type": "code",
   "execution_count": 317,
   "metadata": {
    "collapsed": false
   },
   "outputs": [
    {
     "name": "stdout",
     "output_type": "stream",
     "text": [
      "        A_W6G  A_Seed  A_Losses  A_winpct\n",
      "A_Team                                   \n",
      "1155        4      12        11  0.656250\n",
      "1114        4      16        16  0.515152\n",
      "1106        5      16        17  0.468750\n",
      "1425        4      11        14  0.575758\n",
      "1139        6       8         9  0.709677\n"
     ]
    }
   ],
   "source": [
    "home_frame = pd.DataFrame()\n",
    "\n",
    "# print team_metrics.loc[1155]\n",
    "\n",
    "home_df = pd.DataFrame()\n",
    "for i in model_df['HomeID']:\n",
    "    t = team_metrics.loc[[int(i)]]\n",
    "    home_df = pd.concat([home_df, t], axis=0)\n",
    "\n",
    "home_df.columns = ['A_W6G', 'A_Seed', 'A_Losses', 'A_winpct']\n",
    "home_df.index.name ='A_Team'\n",
    "\n",
    "print home_df.head()\n",
    "    \n",
    "away_df = pd.DataFrame()\n",
    "for i in model_df['AwayID']:\n",
    "    t = team_metrics.loc[[int(i)]]\n",
    "    away_df = pd.concat([away_df, t], axis=0)\n",
    "    \n",
    "\n",
    "away_df.columns = ['B_W6G', 'B_Seed', 'B_Losses', 'B_winpct']\n",
    "away_df.index.name ='B_Team'"
   ]
  },
  {
   "cell_type": "code",
   "execution_count": 319,
   "metadata": {
    "collapsed": false
   },
   "outputs": [],
   "source": [
    "model_df2 = pd.concat([model_df, home_df.reset_index(), away_df.reset_index()], axis=1)"
   ]
  },
  {
   "cell_type": "code",
   "execution_count": 321,
   "metadata": {
    "collapsed": false
   },
   "outputs": [
    {
     "name": "stdout",
     "output_type": "stream",
     "text": [
      "             Game  Result HomeID AwayID  A_W6G  A_Seed  A_Losses  A_winpct  \\\n",
      "0  2011_1155_1412       1   1155   1412      4      12        11  0.656250   \n",
      "1  2011_1114_1421       0   1114   1421      4      16        16  0.515152   \n",
      "2  2011_1106_1427       0   1106   1427      5      16        17  0.468750   \n",
      "3  2011_1425_1433       0   1425   1433      4      11        14  0.575758   \n",
      "4  2011_1139_1330       1   1139   1330      6       8         9  0.709677   \n",
      "\n",
      "   B_W6G  B_Seed  B_Losses  B_winpct  \n",
      "0      4      12         8  0.733333  \n",
      "1      6      16        13  0.551724  \n",
      "2      5      16        13  0.551724  \n",
      "3      3      11        11  0.676471  \n",
      "4      6       9         6  0.818182  \n"
     ]
    }
   ],
   "source": [
    "model_df2.drop(['A_Team', 'B_Team'], axis=1, inplace=True)\n",
    "print model_df2.head()"
   ]
  },
  {
   "cell_type": "code",
   "execution_count": 497,
   "metadata": {
    "collapsed": false
   },
   "outputs": [
    {
     "name": "stdout",
     "output_type": "stream",
     "text": [
      "1 1\n",
      "1 2\n",
      "1 3\n",
      "2 1\n",
      "2 2\n",
      "2 3\n",
      "3 1\n",
      "3 2\n",
      "3 3\n"
     ]
    }
   ],
   "source": [
    "import itertools\n",
    "for x, y in itertools.product([1,2,3], [1,2,3]):\n",
    "    print x, y"
   ]
  },
  {
   "cell_type": "code",
   "execution_count": 954,
   "metadata": {
    "collapsed": false
   },
   "outputs": [
    {
     "name": "stdout",
     "output_type": "stream",
     "text": [
      "       Season  Daynum  Wteam  Wscore  Lteam  Lscore Wloc  Numot  Wfgm  Wfga  \\\n",
      "65867    2015     132   1209      38   1204      36    N      0    15    46   \n",
      "65868    2015     132   1246      78   1116      63    N      0    25    49   \n",
      "65869    2015     132   1374      62   1163      54    N      0    18    51   \n",
      "65870    2015     132   1433      71   1173      65    N      0    24    56   \n",
      "65871    2015     132   1458      80   1277      69    N      1    25    52   \n",
      "\n",
      "      ...   Lfga3  Lftm  Lfta  Lor  Ldr  Last  Lto  Lstl  Lblk  Lpf  \n",
      "65867 ...      26     9    13   14   20     7    8     4     5   11  \n",
      "65868 ...      13    11    17    9   11     5   12     4     3   22  \n",
      "65869 ...      25    16    21    4   18     6    7     1     7   22  \n",
      "65870 ...      12    21    27    8   22    10   10    11     2   16  \n",
      "65871 ...      14     9     9    6   23    16   13     3     2   17  \n",
      "\n",
      "[5 rows x 34 columns]\n",
      "ast                               13.363636\n",
      "blk                                5.121212\n",
      "dr                                26.727273\n",
      "fga                               54.090909\n",
      "fga3                              19.727273\n",
      "fgm                               24.727273\n",
      "fgm3                               6.848485\n",
      "fta                               25.575758\n",
      "ftm                               18.636364\n",
      "mov                               15.060606\n",
      "or                                11.878788\n",
      "p_allowed                         59.878788\n",
      "p_score                           74.939394\n",
      "pf                                16.909091\n",
      "season                          2014.000000\n",
      "stl                                6.848485\n",
      "to                                10.454545\n",
      "mltwo_win                          0.000000\n",
      "gtseven_win                       29.000000\n",
      "mltwo_loss                         0.000000\n",
      "gtseven_loss                       0.000000\n",
      "away_win_percent                   1.000000\n",
      "tourney_opponent_win_percent       1.000000\n",
      "Name: 1455, dtype: float64\n"
     ]
    }
   ],
   "source": [
    "print RegularSeasonDetailedResults.tail()\n",
    "# get avg for each team\n",
    "\n",
    "#Away Wins Winning Percentage\n",
    "#Wins by margin less than 2\n",
    "#Losses by margin less than 2\n",
    "#Wins by margin greater than 7\n",
    "#Losses by margin greater than 7\n",
    "#Win Percentage in last 4 weeks\n",
    "#Win Percentage against playoff teams\n",
    "\n",
    "def get_seasons_avgs(season_year):\n",
    "    season_detailed = RegularSeasonDetailedResults[RegularSeasonDetailedResults['Season'] == season_year]\n",
    "    playoff_teams = TourneySeeds[TourneySeeds['Season'] == season_year]['Team'].sort_values(ascending=True)\n",
    "    season_stats_full = pd.DataFrame({})\n",
    "    winning_percentages_full = pd.DataFrame({})\n",
    "    for p in playoff_teams:\n",
    "        games = season_detailed[(season_detailed['Wteam']==p) | (season_detailed['Lteam']==p)]\n",
    "        # field goals made\n",
    "        fgm = []\n",
    "        # field goals made\n",
    "        fga = []\n",
    "        # 3 points made\n",
    "        fgm3 = []\n",
    "        # 3 points made\n",
    "        fga3 = []\n",
    "        # free throws made\n",
    "        ftm = []\n",
    "        # free throws attempted\n",
    "        fta = []\n",
    "        # offensive rebounds\n",
    "        ofr = []\n",
    "        # defensive rebounds\n",
    "        dr = []\n",
    "        # assist\n",
    "        ast = []\n",
    "        # turn overs\n",
    "        to = []\n",
    "        # steals\n",
    "        stl = []\n",
    "        # blocks\n",
    "        blk = []\n",
    "        # personal fouls\n",
    "        pf = []\n",
    "        result = []\n",
    "        stats = [fgm, fga, fgm3, fga3, ftm, fta, ofr, dr, ast, to, stl, blk, pf]\n",
    "        # margin of victory/loss\n",
    "        mov  = []\n",
    "        # points scored\n",
    "        p_score = []\n",
    "        # points allowed\n",
    "        p_allowed = []\n",
    "        # loc\n",
    "        loc = []\n",
    "        # margin less than 2\n",
    "        mltwo = []\n",
    "        # margin greater than 7\n",
    "        gtseven = []\n",
    "        # opponent in tourney\n",
    "        tourney_opponent = []\n",
    "        columns = [\"fgm\", \"fga\", \"fgm3\", \"fga3\", \"ftm\", \"fta\", \"or\", \"dr\", \"ast\", \"to\", \"stl\", \"blk\", \"pf\"]\n",
    "        for i in range(0, len(games)):\n",
    "            row = games.iloc[i]\n",
    "            # print row\n",
    "            num_stats = len(stats)\n",
    "            if row['Wteam'] == p:\n",
    "                i = 0\n",
    "                for s in stats:\n",
    "                    s.append(row[\"W\" + columns[i]])\n",
    "                    i+=1\n",
    "                result.append(1)\n",
    "                loc.append(row['Wloc'])\n",
    "                margin = row['Wscore'] - row['Lscore']\n",
    "                mov.append(margin)\n",
    "                p_score.append(row['Wscore'])\n",
    "                p_allowed.append(row['Lscore'])\n",
    "                if (margin) < 2:\n",
    "                    mltwo.append(1)\n",
    "                else: mltwo.append(0)\n",
    "                if (margin) > 7:\n",
    "                      gtseven.append(1)\n",
    "                else: gtseven.append(0)\n",
    "                if row['Lteam'] in list(playoff_teams):\n",
    "                    tourney_opponent.append(1)\n",
    "                else: tourney_opponent.append(0)\n",
    "            if row['Lteam'] == p:\n",
    "                i = 0\n",
    "                for s in stats:\n",
    "                    s.append(row[\"L\" + columns[i]])\n",
    "                    i+=1\n",
    "                result.append(0)\n",
    "                margin = row['Lscore'] - row['Wscore']\n",
    "                mov.append(margin)\n",
    "                if (margin) > -2:\n",
    "                    mltwo.append(1)\n",
    "                else: mltwo.append(0)\n",
    "                if (margin) < -7:\n",
    "                      gtseven.append(1)\n",
    "                else: gtseven.append(0)\n",
    "                if row['Wloc'] == 'H':\n",
    "                    loc.append('A')\n",
    "                elif row['Wloc'] =='A':\n",
    "                    loc.append('H')\n",
    "                else: loc.append(row['Wloc'])\n",
    "                p_score.append(row['Lscore'])\n",
    "                p_allowed.append(row['Wscore'])\n",
    "                if row['Wteam'] in list(playoff_teams):\n",
    "                    tourney_opponent.append(1)\n",
    "                else: tourney_opponent.append(0)\n",
    "        stats_per_game = pd.DataFrame({\"team\": p,\n",
    "                                       \"season\": season_year,\n",
    "                                       \"result\": result,\n",
    "                                        \"fgm\": fgm,\n",
    "                                       \"fga\": fga,\n",
    "                                       \"fgm3\": fgm3,\n",
    "                                       \"fga3\": fga3,\n",
    "                                       \"ftm\": ftm,\n",
    "                                       \"fta\": fta, \n",
    "                                       \"or\": ofr,\n",
    "                                       \"dr\": dr,\n",
    "                                       \"ast\": ast,\n",
    "                                       \"to\": to,\n",
    "                                       \"stl\": stl,\n",
    "                                       \"blk\": blk,\n",
    "                                       \"pf\": pf,\n",
    "                                       \"mov\": mov,\n",
    "                                       \"p_score\": p_score,\n",
    "                                       \"p_allowed\": p_allowed\n",
    "                                      })\n",
    "        winning_percentage = pd.DataFrame({\"team\": p,\n",
    "                                            \"season\": season_year,\n",
    "                                            \"result\": result,\n",
    "                                            'loc': loc,\n",
    "                                            'mltwo': mltwo,\n",
    "                                            'gtseven': gtseven,\n",
    "                                            \"tourney_opponent\": tourney_opponent})\n",
    "        wins_agg = winning_percentage.groupby(['team', 'result']).agg({\n",
    "                \"mltwo\":\"sum\",\n",
    "                \"gtseven\":\"sum\",\n",
    "                \"tourney_opponent\":\"sum\"\n",
    "            })\n",
    "        # winning percentage against tourney teams\n",
    "        wins_tourney_percent = wins_agg[['tourney_opponent']].loc[wins_agg.index.get_level_values('result') == 1] / wins_agg[['tourney_opponent']].sum()\n",
    "        wins_tourney_percent.columns = ['tourney_opponent_win_percent']\n",
    "        wins_tourney_percent['tourney_opponent_win_percent'].fillna(value=0.0, inplace=True)\n",
    "        wins_marg = wins_agg[['mltwo', 'gtseven']].loc[wins_agg.index.get_level_values('result') == 1] \n",
    "       # wins_marg[['mltwo', 'gtseven']].fillna(value=0.0, inplace=True)\n",
    "        loss_marg = wins_agg[['mltwo', 'gtseven']].loc[wins_agg.index.get_level_values('result') == 0] \n",
    "       # loss_marg[['mltwo', 'gtseven']].fillna(value=0.0, inplace=True)\n",
    "        # need to combine these\n",
    "        margin = wins_marg.reset_index(level='result').join(loss_marg.reset_index(level='result'), lsuffix='_win', rsuffix='_loss').drop(['result_win', 'result_loss'], axis=1, inplace=False)\n",
    "        # away winning percentage\n",
    "        away_games = winning_percentage[['team', 'result','loc']].loc[winning_percentage['loc']=='A'].groupby(['team', 'result']).count()\n",
    "        away_win_percent = away_games[['loc']].loc[away_games.index.get_level_values('result')==1] / away_games[['loc']].sum()\n",
    "        away_win_percent.columns = ['away_win_percent']\n",
    "        wins_percentages = margin.join(away_win_percent.reset_index(level='result')).drop('result', axis=1, inplace=False)\n",
    "        wins_percentages = wins_percentages.join(wins_tourney_percent.reset_index(level='result')).drop('result', axis=1, inplace=False)\n",
    "        \n",
    "        winning_percentages_full = pd.concat([winning_percentages_full, wins_percentages], axis=0)\n",
    "        season_stats_full = pd.concat([season_stats_full, stats_per_game], axis=0)               \n",
    "    # winning_percentages_full[['tourney_opponent_win_percent','mltwo_win', 'mltwo_loss', 'gtseven_win', 'gtseven_loss']].fillna(value=0, inplace=True)\n",
    "    season_stats_full_avg = season_stats_full.groupby(['team']).mean()\n",
    "    return_model_df = season_stats_full_avg.join(winning_percentages_full)\n",
    "    return_model_df.fillna(value=0.0, inplace=True)\n",
    "    return_model_df.drop('result', axis=1, inplace=True)\n",
    "    return return_model_df\n",
    "\n",
    "a = get_seasons_avgs(2014)\n",
    "print a.loc[1455]"
   ]
  },
  {
   "cell_type": "code",
   "execution_count": 945,
   "metadata": {
    "collapsed": false
   },
   "outputs": [
    {
     "name": "stdout",
     "output_type": "stream",
     "text": [
      "wins_last_six_games    6\n",
      "Seed                   1\n",
      "losses                 0\n",
      "winpct                 1\n",
      "Name: 1455, dtype: float64\n"
     ]
    },
    {
     "name": "stderr",
     "output_type": "stream",
     "text": [
      "/Applications/anaconda/lib/python2.7/site-packages/ipykernel/__main__.py:33: SettingWithCopyWarning: \n",
      "A value is trying to be set on a copy of a slice from a DataFrame.\n",
      "Try using .loc[row_indexer,col_indexer] = value instead\n",
      "\n",
      "See the caveats in the documentation: http://pandas.pydata.org/pandas-docs/stable/indexing.html#indexing-view-versus-copy\n"
     ]
    }
   ],
   "source": [
    "# function to make the data sets from above\n",
    "\n",
    "\n",
    "def metrics_by_season(season_year):\n",
    "    playoff_teams = TourneySeeds[TourneySeeds['Season'] == season_year]['Team'].sort_values(ascending=True)\n",
    "    seeds = TourneySeeds[TourneySeeds['Season'] == season_year]\n",
    "    season = RegularSeasonCompactResults[RegularSeasonCompactResults['Season'] == season_year]\n",
    "    # create metrics\n",
    "    # wins\n",
    "    wins_freq_table = pd.DataFrame.from_dict(season['Wteam'])\n",
    "    wins_by_team = wins_freq_table[wins_freq_table.Wteam.isin(playoff_teams)].stack().value_counts()\n",
    "    wins_by_team.fillna(value=0, inplace=True)\n",
    "    wins_by_team.index.name = 'Team'\n",
    "    # losses\n",
    "    loss_freq_table = pd.DataFrame.from_dict(season['Lteam'])\n",
    "    losses_by_team = loss_freq_table[loss_freq_table.Lteam.isin(playoff_teams)].stack().value_counts()\n",
    "    losses_by_team.fillna(value=0, inplace=True)\n",
    "    losses_by_team.index.name = 'Team'\n",
    "    games_played_series = wins_by_team.align(losses_by_team, fill_value=0)\n",
    "    games_played = pd.Series(games_played_series[0] + games_played_series[1])\n",
    "    # winning %\n",
    "    total_winpct = wins_by_team / games_played\n",
    "    # number of wins the last 6 games\n",
    "    wins_last_six_games = {}\n",
    "    for p in playoff_teams:\n",
    "        games = season[(season['Wteam']==p) | (season['Lteam']==p)]\n",
    "        num_wins = len(games.tail(6)[games['Wteam']==p])\n",
    "        wins_last_six_games.update({p:num_wins})\n",
    "    # seed\n",
    "    pattern = \"[A-Z]([0-9][0-9])\"\n",
    "    team_seeds = seeds['Seed'].str.extract(pattern).to_frame()\n",
    "    seeds2 = team_seeds['Seed'].apply(int)\n",
    "    seeds['SeedsInt'] = seeds2\n",
    "    team_seed = {}\n",
    "    for p in playoff_teams:\n",
    "        val = seeds.loc[seeds['Team'] == p]\n",
    "        zipped = dict(zip(val.Team,val.SeedsInt))\n",
    "        team_seed.update(zipped)\n",
    "    # combine into data frame\n",
    "    total_winpct_by_team = pd.DataFrame({'winpct': total_winpct,\n",
    "                                   'losses': games_played_series[1]})\n",
    "    w_six_df = pd.DataFrame.from_dict(wins_last_six_games, orient='index')\n",
    "    w_six_df.columns= ['wins_last_six_games']\n",
    "    team_seed_df = pd.DataFrame.from_dict(team_seed, orient='index')\n",
    "    team_seed_df.columns= ['Seed']\n",
    "    team_metrics = pd.concat([w_six_df, team_seed_df, total_winpct_by_team], axis=1)\n",
    "    team_metrics.index.name ='Team'\n",
    "    return team_metrics\n",
    "\n",
    "t1 = metrics_by_season(2014)\n",
    "print t1.loc[1455]"
   ]
  },
  {
   "cell_type": "code",
   "execution_count": null,
   "metadata": {
    "collapsed": false
   },
   "outputs": [],
   "source": []
  },
  {
   "cell_type": "code",
   "execution_count": null,
   "metadata": {
    "collapsed": true
   },
   "outputs": [],
   "source": [
    "#Away Wins Winning Percentage\n",
    "#Wins by margin less than 2\n",
    "#Losses by margin less than 2\n",
    "#Wins by margin greater than 7\n",
    "#Losses by margin greater than 7\n",
    "#Win Percentage in last 4 weeks\n",
    "#Win Percentage against playoff teams\n",
    "#Number of wins in last 6 games of the season\n",
    "#Seed in Tournament\n",
    "#Wins in Tournament"
   ]
  },
  {
   "cell_type": "code",
   "execution_count": 962,
   "metadata": {
    "collapsed": false
   },
   "outputs": [
    {
     "name": "stderr",
     "output_type": "stream",
     "text": [
      "/Applications/anaconda/lib/python2.7/site-packages/ipykernel/__main__.py:33: SettingWithCopyWarning: \n",
      "A value is trying to be set on a copy of a slice from a DataFrame.\n",
      "Try using .loc[row_indexer,col_indexer] = value instead\n",
      "\n",
      "See the caveats in the documentation: http://pandas.pydata.org/pandas-docs/stable/indexing.html#indexing-view-versus-copy\n"
     ]
    },
    {
     "name": "stdout",
     "output_type": "stream",
     "text": [
      "             Game  Result HomeID AwayID  A_Team  A_W6G  A_Seed  A_Losses  \\\n",
      "0  2010_1115_1457       1   1115   1457    1115      5      16        15   \n",
      "1  2010_1124_1358       1   1124   1358    1124      5       3         7   \n",
      "2  2010_1139_1431       1   1139   1431    1139      6       5         4   \n",
      "3  2010_1140_1196       1   1140   1196    1140      4       7         5   \n",
      "4  2010_1242_1250       1   1242   1250    1242      5       1         2   \n",
      "\n",
      "   A_winpct      A_ast               ...                     B_pf  B_season  \\\n",
      "0  0.531250  12.531250               ...                18.966667      2010   \n",
      "1  0.774194  13.645161               ...                20.571429      2010   \n",
      "2  0.875000  12.812500               ...                19.343750      2010   \n",
      "3  0.848485  15.787879               ...                14.454545      2010   \n",
      "4  0.941176  17.147059               ...                17.906250      2010   \n",
      "\n",
      "      B_stl       B_to  B_mltwo_win  B_gtseven_win  B_mltwo_loss  \\\n",
      "0  8.733333  12.200000            0             10             0   \n",
      "1  7.535714  13.428571            0             13             2   \n",
      "2  8.750000  13.156250            0             19             0   \n",
      "3  7.151515  12.181818            2             14             2   \n",
      "4  6.156250  13.000000            0             19             0   \n",
      "\n",
      "   B_gtseven_loss  B_away_win_percent  B_tourney_opponent_win_percent  \n",
      "0               9            0.352941                        0.000000  \n",
      "1               4            0.538462                        0.000000  \n",
      "2               4            0.800000                        0.428571  \n",
      "3               5            0.500000                        0.272727  \n",
      "4               7            0.466667                        0.000000  \n",
      "\n",
      "[5 rows x 60 columns]\n"
     ]
    }
   ],
   "source": [
    "# build training dataset\n",
    "\n",
    "def build_training_data(season_year_list):\n",
    "    return_model_df = pd.DataFrame({})\n",
    "    for season_year in season_year_list:\n",
    "        team_metrics = metrics_by_season(season_year)\n",
    "        team_season_stats = get_seasons_avgs(season_year)\n",
    "        team_metrics_away = team_metrics.copy()\n",
    "        team_season_stats_away = team_season_stats.copy()\n",
    "        season_matches = TourneyCompactResults[TourneyCompactResults['Season'] == season_year]\n",
    "        team = []\n",
    "        result = []\n",
    "        for i in range(0, len(season_matches)):\n",
    "                row = season_matches.iloc[i]\n",
    "                # lowest team integer goes first\n",
    "                if row['Wteam'] < row['Lteam']:\n",
    "                    team.append(str(season_year) + \"_\" + str(row['Wteam']) + \"_\" + str(row['Lteam']))\n",
    "                    result.append(1)\n",
    "                else:\n",
    "                    team.append(str(season_year) + \"_\" + str(row['Lteam']) + \"_\" + str(row['Wteam']))\n",
    "                    result.append(0)\n",
    "        model_df =  pd.DataFrame({'Game': team,\n",
    "                             'Result': result})\n",
    "        pattern = \"[0-9]_([0-9]{4})_([0-9]{4})\"\n",
    "        team_ids = model_df['Game'].str.extract(pattern)\n",
    "        team_ids.columns = ['HomeID', 'AwayID']\n",
    "        model_df = pd.concat([model_df,team_ids], axis=1)\n",
    "        home_df = pd.DataFrame()\n",
    "        for i in model_df['HomeID']:\n",
    "            t = team_metrics.loc[[int(i)]]\n",
    "            avg = team_season_stats.loc[[int(i)]]\n",
    "            combine_stats = t.join(avg, how='inner')\n",
    "            home_df = pd.concat([home_df, combine_stats], axis=0)  \n",
    "        home_df.columns =  ['A_W6G',  'A_Seed',  'A_Losses', 'A_winpct', 'A_ast', 'A_blk', 'A_dr', 'A_fga', 'A_fga3', 'A_fgm', 'A_fgm3','A_fta', 'A_ftm', 'A_mov', 'A_or', 'A_p_allowed', 'A_p_score', 'A_pf', 'A_season', 'A_stl', 'A_to', 'A_mltwo_win', 'A_gtseven_win', 'A_mltwo_loss', 'A_gtseven_loss', 'A_away_win_percent', 'A_tourney_opponent_win_percent']\n",
    "        home_df.index.name ='A_Team'\n",
    "        away_df = pd.DataFrame()\n",
    "        for i in model_df['AwayID']:\n",
    "            t = team_metrics_away.loc[[int(i)]]\n",
    "            avg = team_season_stats_away.loc[[int(i)]]\n",
    "            combine_stats = t.join(avg, how='inner')\n",
    "            away_df = pd.concat([away_df, combine_stats], axis=0)\n",
    "        away_df.columns = ['B_W6G',  'B_Seed',  'B_Losses',   'B_winpct', 'B_ast', 'B_blk', 'B_dr', 'B_fga', 'B_fga3', 'B_fgm', 'B_fgm3','B_fta', 'B_ftm', 'B_mov', 'B_or', 'B_p_allowed', 'B_p_score', 'B_pf', 'B_season', 'B_stl', 'B_to', 'B_mltwo_win', 'B_gtseven_win', 'B_mltwo_loss', 'B_gtseven_loss', 'B_away_win_percent', 'B_tourney_opponent_win_percent']\n",
    "        away_df.index.name ='B_Team'\n",
    "        concat_df = pd.concat([home_df.reset_index(), away_df.reset_index()], axis=1)\n",
    "        model_df = pd.concat([model_df, concat_df], axis=1)\n",
    "       #  model_df.drop(['A_Team', 'B_Team'], axis=1, inplace=True)\n",
    "        return_model_df = pd.concat([return_model_df, model_df], axis=0)\n",
    "        return_model_df.fillna(0, inplace=True)\n",
    "    return return_model_df\n",
    "\n",
    "b = build_training_data([2010, 2011, 2012, 2013, 2014])\n",
    "\n",
    "\n",
    "#print build_training_data([2010, 2011, 2012]).tail()\n",
    "\n",
    "#print b.head()\n",
    "#print b.tail()\n",
    "\n",
    "print b.head()\n",
    "\n"
   ]
  },
  {
   "cell_type": "code",
   "execution_count": 960,
   "metadata": {
    "collapsed": false
   },
   "outputs": [
    {
     "name": "stderr",
     "output_type": "stream",
     "text": [
      "/Applications/anaconda/lib/python2.7/site-packages/ipykernel/__main__.py:33: SettingWithCopyWarning: \n",
      "A value is trying to be set on a copy of a slice from a DataFrame.\n",
      "Try using .loc[row_indexer,col_indexer] = value instead\n",
      "\n",
      "See the caveats in the documentation: http://pandas.pydata.org/pandas-docs/stable/indexing.html#indexing-view-versus-copy\n"
     ]
    },
    {
     "name": "stdout",
     "output_type": "stream",
     "text": [
      "Index([u'Game', u'Prediction', u'HomeID', u'AwayID', u'A_Team', u'A_W6G',\n",
      "       u'A_Seed', u'A_Losses', u'A_winpct', u'A_ast', u'A_blk', u'A_dr',\n",
      "       u'A_fga', u'A_fga3', u'A_fgm', u'A_fgm3', u'A_fta', u'A_ftm', u'A_mov',\n",
      "       u'A_or', u'A_p_allowed', u'A_p_score', u'A_pf', u'A_season', u'A_stl',\n",
      "       u'A_to', u'A_mltwo_win', u'A_gtseven_win', u'A_mltwo_loss',\n",
      "       u'A_gtseven_loss', u'A_away_win_percent',\n",
      "       u'A_tourney_opponent_win_percent', u'B_Team', u'B_W6G', u'B_Seed',\n",
      "       u'B_Losses', u'B_winpct', u'B_ast', u'B_blk', u'B_dr', u'B_fga',\n",
      "       u'B_fga3', u'B_fgm', u'B_fgm3', u'B_fta', u'B_ftm', u'B_mov', u'B_or',\n",
      "       u'B_p_allowed', u'B_p_score', u'B_pf', u'B_season', u'B_stl', u'B_to',\n",
      "       u'B_mltwo_win', u'B_gtseven_win', u'B_mltwo_loss', u'B_gtseven_loss',\n",
      "       u'B_away_win_percent', u'B_tourney_opponent_win_percent'],\n",
      "      dtype='object')\n",
      "             Game Prediction HomeID AwayID  A_Team  A_W6G  A_Seed  A_Losses  \\\n",
      "0  2011_1103_1106       None   1103   1106    1103      4      15        12   \n",
      "1  2011_1103_1112       None   1103   1112    1103      4      15        12   \n",
      "2  2011_1103_1114       None   1103   1114    1103      4      15        12   \n",
      "3  2011_1103_1125       None   1103   1125    1103      4      15        12   \n",
      "4  2011_1103_1131       None   1103   1131    1103      4      15        12   \n",
      "\n",
      "   A_winpct      A_ast               ...                     B_pf  B_season  \\\n",
      "0  0.647059  14.352941               ...                22.312500      2011   \n",
      "1  0.647059  14.352941               ...                18.617647      2011   \n",
      "2  0.647059  14.352941               ...                20.727273      2011   \n",
      "3  0.647059  14.352941               ...                20.823529      2011   \n",
      "4  0.647059  14.352941               ...                18.205882      2011   \n",
      "\n",
      "      B_stl       B_to  B_mltwo_win  B_gtseven_win  B_mltwo_loss  \\\n",
      "0  7.312500  15.718750            0             11             1   \n",
      "1  5.029412  12.852941            1             21             1   \n",
      "2  5.696970  11.636364            1              9             1   \n",
      "3  9.735294  13.941176            1             26             1   \n",
      "4  5.382353  11.941176            0             11             2   \n",
      "\n",
      "   B_gtseven_loss  B_away_win_percent  B_tourney_opponent_win_percent  \n",
      "0              14            0.235294                        0.000000  \n",
      "1               5            0.636364                        0.454545  \n",
      "2              12            0.230769                        0.000000  \n",
      "3               3            0.764706                        0.250000  \n",
      "4               6            0.333333                        0.000000  \n",
      "\n",
      "[5 rows x 60 columns]\n",
      "                Game Prediction HomeID AwayID  A_Team  A_W6G  A_Seed  \\\n",
      "2273  2012_1452_1458       None   1452   1458    1452      3      10   \n",
      "2274  2012_1452_1462       None   1452   1462    1452      3      10   \n",
      "2275  2012_1455_1458       None   1455   1458    1455      5       5   \n",
      "2276  2012_1455_1462       None   1455   1462    1455      5       5   \n",
      "2277  2012_1458_1462       None   1458   1462    1458      4       4   \n",
      "\n",
      "      A_Losses  A_winpct      A_ast               ...                \\\n",
      "2273        13  0.593750  14.593750               ...                 \n",
      "2274        13  0.593750  14.593750               ...                 \n",
      "2275         5  0.838710  14.548387               ...                 \n",
      "2276         5  0.838710  14.548387               ...                 \n",
      "2277         9  0.727273  11.666667               ...                 \n",
      "\n",
      "           B_pf  B_season     B_stl       B_to  B_mltwo_win  B_gtseven_win  \\\n",
      "2273  14.212121      2012  5.212121   8.969697            0             15   \n",
      "2274  18.848485      2012  6.090909  12.727273            2             14   \n",
      "2275  14.212121      2012  5.212121   8.969697            0             15   \n",
      "2276  18.848485      2012  6.090909  12.727273            2             14   \n",
      "2277  18.848485      2012  6.090909  12.727273            2             14   \n",
      "\n",
      "      B_mltwo_loss  B_gtseven_loss  B_away_win_percent  \\\n",
      "2273             1               3            0.636364   \n",
      "2274             0               7            0.416667   \n",
      "2275             1               3            0.636364   \n",
      "2276             0               7            0.416667   \n",
      "2277             0               7            0.416667   \n",
      "\n",
      "      B_tourney_opponent_win_percent  \n",
      "2273                        0.500000  \n",
      "2274                        0.416667  \n",
      "2275                        0.500000  \n",
      "2276                        0.416667  \n",
      "2277                        0.416667  \n",
      "\n",
      "[5 rows x 60 columns]\n"
     ]
    }
   ],
   "source": [
    "# BUILD TEST DATA FRAME\n",
    "def test_frame_model(season_year_list):\n",
    "    return_model_df = pd.DataFrame({})\n",
    "    for season_year in season_year_list:\n",
    "        model_df = SubmissionFile(season_year)\n",
    "        model_df.columns = ['Game', 'Prediction']\n",
    "        team_metrics = metrics_by_season(season_year)\n",
    "        team_metrics_away = team_metrics.copy()\n",
    "        team_season_stats = get_seasons_avgs(season_year)\n",
    "        team_season_stats_away = team_season_stats.copy()\n",
    "        pattern = \"[0-9]_([0-9]{4})_([0-9]{4})\"\n",
    "        team_ids = model_df['Game'].str.extract(pattern)\n",
    "        team_ids.columns = ['HomeID', 'AwayID']\n",
    "        model_df = pd.concat([model_df,team_ids], axis=1)\n",
    "        home_df = pd.DataFrame()\n",
    "        for i in model_df['HomeID']:\n",
    "            t = team_metrics.loc[[int(i)]]\n",
    "            avg = team_season_stats.loc[[int(i)]]\n",
    "            combine_stats = t.join(avg, how='inner')\n",
    "            home_df = pd.concat([home_df, combine_stats], axis=0)  \n",
    "        home_df.columns =  ['A_W6G',  'A_Seed',  'A_Losses', 'A_winpct', 'A_ast', 'A_blk', 'A_dr', 'A_fga', 'A_fga3', 'A_fgm', 'A_fgm3','A_fta', 'A_ftm', 'A_mov', 'A_or', 'A_p_allowed', 'A_p_score', 'A_pf', 'A_season', 'A_stl', 'A_to',  'A_mltwo_win', 'A_gtseven_win', 'A_mltwo_loss', 'A_gtseven_loss', 'A_away_win_percent', 'A_tourney_opponent_win_percent']\n",
    "        home_df.index.name ='A_Team'\n",
    "        away_df = pd.DataFrame()\n",
    "        for i in model_df['AwayID']:\n",
    "            t = team_metrics_away.loc[[int(i)]]\n",
    "            avg = team_season_stats_away.loc[[int(i)]]\n",
    "            combine_stats = t.join(avg, how='inner')\n",
    "            away_df = pd.concat([away_df, combine_stats], axis=0)\n",
    "        away_df.columns = ['B_W6G',  'B_Seed',  'B_Losses',   'B_winpct', 'B_ast', 'B_blk', 'B_dr', 'B_fga', 'B_fga3', 'B_fgm', 'B_fgm3','B_fta', 'B_ftm', 'B_mov', 'B_or', 'B_p_allowed', 'B_p_score', 'B_pf', 'B_season', 'B_stl', 'B_to', 'B_mltwo_win', 'B_gtseven_win', 'B_mltwo_loss', 'B_gtseven_loss', 'B_away_win_percent', 'B_tourney_opponent_win_percent']\n",
    "        away_df.index.name ='B_Team'\n",
    "        concat_df = pd.concat([home_df.reset_index(), away_df.reset_index()], axis=1)\n",
    "        model_df = pd.concat([model_df, concat_df], axis=1)\n",
    "        return_model_df = pd.concat([return_model_df, model_df], axis=0)\n",
    "      #  model_df.drop(['A_Team', 'B_Team'], axis=1, inplace=True)\n",
    "    return return_model_df\n",
    "\n",
    "a = test_frame_model([2011, 2012])\n",
    "print a.columns\n",
    "print a.head()\n",
    "print a.tail()"
   ]
  },
  {
   "cell_type": "code",
   "execution_count": 991,
   "metadata": {
    "collapsed": false
   },
   "outputs": [
    {
     "name": "stderr",
     "output_type": "stream",
     "text": [
      "/Applications/anaconda/lib/python2.7/site-packages/ipykernel/__main__.py:33: SettingWithCopyWarning: \n",
      "A value is trying to be set on a copy of a slice from a DataFrame.\n",
      "Try using .loc[row_indexer,col_indexer] = value instead\n",
      "\n",
      "See the caveats in the documentation: http://pandas.pydata.org/pandas-docs/stable/indexing.html#indexing-view-versus-copy\n"
     ]
    }
   ],
   "source": [
    "# Get training data\n",
    "Train = build_training_data([2012, 2013, 2014])\n",
    "Test = build_training_data([2015])"
   ]
  },
  {
   "cell_type": "code",
   "execution_count": 992,
   "metadata": {
    "collapsed": false
   },
   "outputs": [],
   "source": [
    "y = Train['Result']\n",
    "\n",
    "X = Train.drop(['Game', 'Result', 'HomeID', 'AwayID', 'A_season', 'B_season', 'A_Team', 'B_Team'], axis=1)\n",
    "\n",
    "X_test = Test.drop(['Game', 'Result', 'HomeID', 'AwayID', 'A_season', 'B_season', 'A_Team', 'B_Team'], axis=1)\n",
    "\n",
    "y_test = Test['Result']\n",
    "\n"
   ]
  },
  {
   "cell_type": "code",
   "execution_count": 965,
   "metadata": {
    "collapsed": false
   },
   "outputs": [
    {
     "name": "stdout",
     "output_type": "stream",
     "text": [
      "   A_W6G  A_Seed  A_Losses  A_winpct      A_ast     A_blk       A_dr  \\\n",
      "0      4      14         8  0.741935  17.032258  4.193548  27.096774   \n",
      "1      5      16        12  0.636364  13.303030  2.393939  23.878788   \n",
      "2      3      12         9  0.727273  16.060606  3.151515  24.909091   \n",
      "3      6      16        11  0.656250  12.437500  4.375000  25.250000   \n",
      "4      4       3         7  0.787879  14.727273  4.636364  23.909091   \n",
      "\n",
      "       A_fga     A_fga3      A_fgm               ...                B_p_score  \\\n",
      "0  60.032258  19.548387  27.967742               ...                83.250000   \n",
      "1  59.515152  22.878788  23.939394               ...                65.060606   \n",
      "2  55.151515  12.606061  26.424242               ...                58.812500   \n",
      "3  59.093750  12.812500  25.375000               ...                67.235294   \n",
      "4  56.000000  17.848485  26.090909               ...                76.375000   \n",
      "\n",
      "        B_pf     B_stl       B_to  B_mltwo_win  B_gtseven_win  B_mltwo_loss  \\\n",
      "0  16.875000  7.218750  12.375000            1             19             1   \n",
      "1  19.818182  5.515152  15.030303            0              3             1   \n",
      "2  15.375000  5.562500  13.687500            2             12             0   \n",
      "3  17.323529  6.235294  12.352941            1             17             1   \n",
      "4  16.218750  6.468750  10.406250            1             19             0   \n",
      "\n",
      "   B_gtseven_loss  B_away_win_percent  B_tourney_opponent_win_percent  \n",
      "0               3            0.733333                        0.600000  \n",
      "1              12            0.272727                        0.000000  \n",
      "2               7            0.384615                        0.230769  \n",
      "3               3            0.647059                        0.000000  \n",
      "4               5            0.533333                        0.000000  \n",
      "\n",
      "[5 rows x 52 columns]\n",
      "0    1\n",
      "1    0\n",
      "2    0\n",
      "3    0\n",
      "4    1\n",
      "Name: Result, dtype: int64\n",
      "[]\n",
      "    A_W6G  A_Seed  A_Losses  A_winpct      A_ast     A_blk       A_dr  \\\n",
      "35      3      16        19  0.366667  11.366667  2.666667  20.733333   \n",
      "47      3       8        10  0.705882  11.500000  6.235294  26.500000   \n",
      "\n",
      "        A_fga     A_fga3      A_fgm               ...                \\\n",
      "35  53.833333  18.900000  21.733333               ...                 \n",
      "47  55.794118  15.647059  25.176471               ...                 \n",
      "\n",
      "    B_p_score       B_pf     B_stl       B_to  B_mltwo_win  B_gtseven_win  \\\n",
      "35  74.939394  16.909091  6.848485  10.454545            0             29   \n",
      "47  74.939394  16.909091  6.848485  10.454545            0             29   \n",
      "\n",
      "    B_mltwo_loss  B_gtseven_loss  B_away_win_percent  \\\n",
      "35             0               0                   1   \n",
      "47             0               0                   1   \n",
      "\n",
      "    B_tourney_opponent_win_percent  \n",
      "35                               1  \n",
      "47                               1  \n",
      "\n",
      "[2 rows x 52 columns]\n"
     ]
    }
   ],
   "source": [
    "print X.head()\n",
    "print y.head()\n",
    "\n",
    "print pd.isnull(X).any(1).nonzero()[0]\n",
    "print X.iloc[[169, 181]]"
   ]
  },
  {
   "cell_type": "code",
   "execution_count": 1051,
   "metadata": {
    "collapsed": true
   },
   "outputs": [],
   "source": [
    "# Try decision trees\n",
    "from sklearn.tree import DecisionTreeClassifier\n",
    "TreeClass = DecisionTreeClassifier(\n",
    "                max_depth = 5,\n",
    "                min_samples_leaf = 2)\n",
    "\n"
   ]
  },
  {
   "cell_type": "code",
   "execution_count": 1052,
   "metadata": {
    "collapsed": false
   },
   "outputs": [
    {
     "data": {
      "text/plain": [
       "DecisionTreeClassifier(class_weight=None, criterion='gini', max_depth=5,\n",
       "            max_features=None, max_leaf_nodes=None, min_samples_leaf=2,\n",
       "            min_samples_split=2, min_weight_fraction_leaf=0.0,\n",
       "            presort=False, random_state=None, splitter='best')"
      ]
     },
     "execution_count": 1052,
     "metadata": {},
     "output_type": "execute_result"
    }
   ],
   "source": [
    "TreeClass.fit(X,y)"
   ]
  },
  {
   "cell_type": "code",
   "execution_count": 1053,
   "metadata": {
    "collapsed": false
   },
   "outputs": [
    {
     "name": "stdout",
     "output_type": "stream",
     "text": [
      "0.575789473684\n"
     ]
    }
   ],
   "source": [
    "from sklearn.cross_validation import cross_val_score\n",
    "scores = cross_val_score(TreeClass, X, y, cv=10)\n",
    "# this is precision\n",
    "print(scores.mean())"
   ]
  },
  {
   "cell_type": "code",
   "execution_count": 1054,
   "metadata": {
    "collapsed": false
   },
   "outputs": [
    {
     "name": "stdout",
     "output_type": "stream",
     "text": [
      "0.597014925373\n"
     ]
    }
   ],
   "source": [
    "\n",
    "print TreeClass.score(X_test, y_test)"
   ]
  },
  {
   "cell_type": "code",
   "execution_count": 1055,
   "metadata": {
    "collapsed": false
   },
   "outputs": [
    {
     "data": {
      "text/plain": [
       "<matplotlib.axes._subplots.AxesSubplot at 0x118b38ad0>"
      ]
     },
     "execution_count": 1055,
     "metadata": {},
     "output_type": "execute_result"
    },
    {
     "data": {
      "image/png": "[encoded data removed]",
      "text/plain": [
       "<matplotlib.figure.Figure at 0x11c42be90>"
      ]
     },
     "metadata": {},
     "output_type": "display_data"
    }
   ],
   "source": [
    "# tune decision tree\n",
    "Depth = range(1,50)\n",
    "score = []\n",
    "for i in Depth:\n",
    "      TreeClass = DecisionTreeClassifier(\n",
    "                max_depth = i,\n",
    "                min_samples_leaf = 2)\n",
    "        # default scoring for classifications is precision\n",
    "      scores = cross_val_score(TreeClass, X, y, cv=10)\n",
    "      score.append(np.mean(scores))\n",
    "\n",
    "Depth_Choice_df = pd.DataFrame({'cv_scores': score ,'Depth': Depth})\n",
    "Depth_Choice_df.plot(x ='Depth',y = 'cv_scores' )"
   ]
  },
  {
   "cell_type": "code",
   "execution_count": 1056,
   "metadata": {
    "collapsed": false
   },
   "outputs": [
    {
     "data": {
      "text/plain": [
       "<matplotlib.axes._subplots.AxesSubplot at 0x11c78aa10>"
      ]
     },
     "execution_count": 1056,
     "metadata": {},
     "output_type": "execute_result"
    },
    {
     "data": {
      "image/png": "[encoded data removed]",
      "text/plain": [
       "<matplotlib.figure.Figure at 0x119e9d910>"
      ]
     },
     "metadata": {},
     "output_type": "display_data"
    }
   ],
   "source": [
    "# tune decision tree\n",
    "Leaf = [1, 2, 3, 4, 5]\n",
    "score = []\n",
    "for i in Leaf:\n",
    "      TreeClass = DecisionTreeClassifier(\n",
    "                max_depth = 2,\n",
    "                min_samples_leaf = i)\n",
    "        # default scoring for classifications is precision\n",
    "      scores = cross_val_score(TreeClass, X, y, cv=10)\n",
    "      score.append(np.mean(scores))\n",
    "\n",
    "Depth_Choice_df = pd.DataFrame({'cv_scores': score ,'Leaf': Leaf})\n",
    "Depth_Choice_df.plot(x ='Leaf',y = 'cv_scores' )"
   ]
  },
  {
   "cell_type": "code",
   "execution_count": 1057,
   "metadata": {
    "collapsed": false
   },
   "outputs": [
    {
     "data": {
      "text/plain": [
       "DecisionTreeClassifier(class_weight=None, criterion='gini', max_depth=1,\n",
       "            max_features=None, max_leaf_nodes=None, min_samples_leaf=3,\n",
       "            min_samples_split=2, min_weight_fraction_leaf=0.0,\n",
       "            presort=False, random_state=None, splitter='best')"
      ]
     },
     "execution_count": 1057,
     "metadata": {},
     "output_type": "execute_result"
    }
   ],
   "source": [
    "# refit based on tuned parameters\n",
    "TreeClass = DecisionTreeClassifier(\n",
    "                max_depth = 1,\n",
    "                min_samples_leaf = 3)\n",
    "TreeClass.fit(X,y)"
   ]
  },
  {
   "cell_type": "code",
   "execution_count": 1058,
   "metadata": {
    "collapsed": false
   },
   "outputs": [
    {
     "name": "stdout",
     "output_type": "stream",
     "text": [
      "0.595864661654\n"
     ]
    }
   ],
   "source": [
    "# cross val\n",
    "from sklearn.cross_validation import cross_val_score\n",
    "scores = cross_val_score(TreeClass, X, y, cv=10)\n",
    "# this is precision\n",
    "print(scores.mean())"
   ]
  },
  {
   "cell_type": "code",
   "execution_count": 1059,
   "metadata": {
    "collapsed": false
   },
   "outputs": [
    {
     "name": "stdout",
     "output_type": "stream",
     "text": [
      "0.686567164179\n"
     ]
    }
   ],
   "source": [
    "# test data set\n",
    "\n",
    "print TreeClass.score(X_test, y_test)"
   ]
  },
  {
   "cell_type": "code",
   "execution_count": 1078,
   "metadata": {
    "collapsed": false
   },
   "outputs": [
    {
     "name": "stdout",
     "output_type": "stream",
     "text": [
      "0.601990049751\n",
      "0.62015037594\n"
     ]
    }
   ],
   "source": [
    "# Random forest\n",
    "from sklearn.ensemble import RandomForestClassifier\n",
    "RFClass = RandomForestClassifier(n_estimators = 1000, \n",
    "                                 # max_features = 15, # You can set it to a number or 'sqrt', 'log2', etc\n",
    "                                 min_samples_leaf = 3,\n",
    "                                 oob_score = True)\n",
    "RFClass.fit(X,y)\n",
    "print(RFClass.oob_score_)\n",
    "scores = cross_val_score(RFClass, X, y, cv=10)\n",
    "print(scores.mean())"
   ]
  },
  {
   "cell_type": "code",
   "execution_count": 1079,
   "metadata": {
    "collapsed": false
   },
   "outputs": [
    {
     "name": "stdout",
     "output_type": "stream",
     "text": [
      "0.601990049751\n",
      "0.776119402985\n"
     ]
    }
   ],
   "source": [
    "print RFClass.oob_score_ \n",
    "print RFClass.score(X_test, y_test)\n"
   ]
  },
  {
   "cell_type": "code",
   "execution_count": 1062,
   "metadata": {
    "collapsed": false
   },
   "outputs": [
    {
     "data": {
      "text/plain": [
       "[(0.0013526942855072979, 'B_mltwo_loss'),\n",
       " (0.0039923121130993498, 'A_mltwo_loss'),\n",
       " (0.0054933348178865483, 'A_Losses'),\n",
       " (0.0056075382126947893, 'A_gtseven_loss'),\n",
       " (0.005736924649029764, 'B_W6G'),\n",
       " (0.005758612827489247, 'B_gtseven_loss'),\n",
       " (0.0059690203700913623, 'B_Losses'),\n",
       " (0.00810846521898664, 'B_mltwo_win'),\n",
       " (0.010305807294591145, 'A_W6G'),\n",
       " (0.010924946302140961, 'A_mltwo_win'),\n",
       " (0.011634617646685606, 'A_gtseven_win'),\n",
       " (0.011747892627709351, 'A_ast'),\n",
       " (0.01228139609728998, 'B_stl'),\n",
       " (0.012889151366677197, 'B_fta'),\n",
       " (0.013134769043214032, 'B_winpct'),\n",
       " (0.013449921626313321, 'A_winpct'),\n",
       " (0.013462355225504275, 'A_away_win_percent'),\n",
       " (0.013729842074041501, 'B_away_win_percent'),\n",
       " (0.014005254832206288, 'A_fga3'),\n",
       " (0.014165482816468417, 'B_ftm'),\n",
       " (0.014324123793076713, 'A_fta'),\n",
       " (0.014402535371976112, 'B_tourney_opponent_win_percent'),\n",
       " (0.014471217847356973, 'B_p_score'),\n",
       " (0.014483661024087649, 'B_to'),\n",
       " (0.014857020008970826, 'B_fgm3'),\n",
       " (0.015175685609078178, 'A_fgm3'),\n",
       " (0.016529687536735813, 'B_dr'),\n",
       " (0.016865097223285493, 'B_ast'),\n",
       " (0.017394706162517412, 'B_fgm'),\n",
       " (0.017517562035757894, 'A_pf'),\n",
       " (0.017564370927000545, 'A_to'),\n",
       " (0.01762243708968194, 'B_or'),\n",
       " (0.018387392529209432, 'B_fga3'),\n",
       " (0.018932839914308018, 'B_blk'),\n",
       " (0.019360843833636079, 'A_dr'),\n",
       " (0.019645699034460885, 'A_fgm'),\n",
       " (0.020297879709855384, 'A_ftm'),\n",
       " (0.02089818896969484, 'B_fga'),\n",
       " (0.021535955779386638, 'B_pf'),\n",
       " (0.022923712315089204, 'A_fga'),\n",
       " (0.024010983548487481, 'A_blk'),\n",
       " (0.025535246995289175, 'B_gtseven_win'),\n",
       " (0.025771395844970731, 'A_p_score'),\n",
       " (0.026504123458584865, 'A_p_allowed'),\n",
       " (0.028949261882759453, 'A_or'),\n",
       " (0.029789885789964006, 'A_mov'),\n",
       " (0.031436506415104121, 'B_p_allowed'),\n",
       " (0.032106331101474012, 'A_stl'),\n",
       " (0.034392805988807951, 'B_Seed'),\n",
       " (0.041624801346777797, 'B_mov'),\n",
       " (0.073874221936697695, 'A_Seed'),\n",
       " (0.079063479528289599, 'A_tourney_opponent_win_percent')]"
      ]
     },
     "execution_count": 1062,
     "metadata": {},
     "output_type": "execute_result"
    }
   ],
   "source": [
    "sorted(zip(RFClass.feature_importances_,X.columns.values))"
   ]
  },
  {
   "cell_type": "code",
   "execution_count": 1083,
   "metadata": {
    "collapsed": false
   },
   "outputs": [
    {
     "data": {
      "text/plain": [
       "<matplotlib.axes._subplots.AxesSubplot at 0x11ebe9c50>"
      ]
     },
     "execution_count": 1083,
     "metadata": {},
     "output_type": "execute_result"
    },
    {
     "data": {
      "image/png": "[encoded data removed]",
      "text/plain": [
       "<matplotlib.figure.Figure at 0x11ec44950>"
      ]
     },
     "metadata": {},
     "output_type": "display_data"
    }
   ],
   "source": [
    "from sklearn.cross_validation import cross_val_score\n",
    "Features = range(1,52)\n",
    "oob_score_RF = []\n",
    "for i in Features:\n",
    "        RFClass = RandomForestClassifier(n_estimators = 1000, #Number of trees - the more the better!\n",
    "                           max_features = i,     #How many features to randomly choose in each node \n",
    "                           min_samples_leaf = 3, #Minimum number of observations at each terminal node\n",
    "                           oob_score = True)\n",
    "        RFClass.fit(X,y)  \n",
    "        oob_score_RF.append(RFClass.oob_score_)\n",
    "\n",
    "Depth_Choice_df = pd.DataFrame({'Out of Bag Score': oob_score_RF ,'Number of Features': Features})\n",
    "Depth_Choice_df.plot(x ='Number of Features',y = 'Out of Bag Score' )\n"
   ]
  },
  {
   "cell_type": "code",
   "execution_count": 1100,
   "metadata": {
    "collapsed": false
   },
   "outputs": [
    {
     "name": "stdout",
     "output_type": "stream",
     "text": [
      "0.587064676617\n",
      "0.614887218045\n",
      "0.731343283582\n"
     ]
    }
   ],
   "source": [
    "# choose 8 features\n",
    "from sklearn.ensemble import RandomForestClassifier\n",
    "RFClass = RandomForestClassifier(n_estimators = 1000, \n",
    "                                 max_features = 11, # You can set it to a number or 'sqrt', 'log2', etc\n",
    "                                 min_samples_leaf = 3,\n",
    "                                 oob_score = True)\n",
    "RFClass.fit(X,y)\n",
    "print(RFClass.oob_score_)\n",
    "scores = cross_val_score(RFClass, X, y, cv=10)\n",
    "print(scores.mean())\n",
    "print RFClass.score(X_test, y_test)"
   ]
  },
  {
   "cell_type": "code",
   "execution_count": 1098,
   "metadata": {
    "collapsed": false
   },
   "outputs": [
    {
     "name": "stdout",
     "output_type": "stream",
     "text": [
      "0.834229390681\n"
     ]
    },
    {
     "data": {
      "text/plain": [
       "<matplotlib.axes._subplots.AxesSubplot at 0x11eca8190>"
      ]
     },
     "execution_count": 1098,
     "metadata": {},
     "output_type": "execute_result"
    },
    {
     "data": {
      "image/png": "[encoded data removed]",
      "text/plain": [
       "<matplotlib.figure.Figure at 0x11e803f10>"
      ]
     },
     "metadata": {},
     "output_type": "display_data"
    }
   ],
   "source": [
    "# ROC curves\n",
    "from sklearn.metrics import roc_curve, auc, roc_auc_score\n",
    "y_hat_probability = RFClass.predict_proba(X_test).T[1] #  returns probability of belonging to class\n",
    "#print(y_hat_probability)\n",
    "print(roc_auc_score(y_test, y_hat_probability))\n",
    "vals = roc_curve(y_test, y_hat_probability)\n",
    "Roc_DataFrame = pd.DataFrame({'False_Positive_Rate':vals[0],'True_Positive_Rate':vals[1]})\n",
    "Roc_DataFrame.plot(x = 'False_Positive_Rate' , y = 'True_Positive_Rate' ) #again beautiful Graph"
   ]
  },
  {
   "cell_type": "code",
   "execution_count": null,
   "metadata": {
    "collapsed": false
   },
   "outputs": [],
   "source": []
  },
  {
   "cell_type": "code",
   "execution_count": null,
   "metadata": {
    "collapsed": false
   },
   "outputs": [],
   "source": []
  },
  {
   "cell_type": "code",
   "execution_count": null,
   "metadata": {
    "collapsed": false
   },
   "outputs": [],
   "source": []
  },
  {
   "cell_type": "code",
   "execution_count": null,
   "metadata": {
    "collapsed": true
   },
   "outputs": [],
   "source": []
  }
 ],
 "metadata": {
  "kernelspec": {
   "display_name": "Python 2",
   "language": "python",
   "name": "python2"
  },
  "language_info": {
   "codemirror_mode": {
    "name": "ipython",
    "version": 2
   },
   "file_extension": ".py",
   "mimetype": "text/x-python",
   "name": "python",
   "nbconvert_exporter": "python",
   "pygments_lexer": "ipython2",
   "version": "2.7.11"
  }
 },
 "nbformat": 4,
 "nbformat_minor": 0
}
